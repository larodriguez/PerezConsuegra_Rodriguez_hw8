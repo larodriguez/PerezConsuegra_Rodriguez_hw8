{
 "metadata": {
  "name": ""
 },
 "nbformat": 3,
 "nbformat_minor": 0,
 "worksheets": [
  {
   "cells": [
    {
     "cell_type": "heading",
     "level": 1,
     "metadata": {},
     "source": [
      "Punto 3 de la Tarea 8 de Fisica Computacional. Universidad de los Andes."
     ]
    },
    {
     "cell_type": "code",
     "collapsed": false,
     "input": [
      "import os # http://www.tutorialspoint.com/python/os_file_methods.htm\n",
      "import shutil # http://python.readthedocs.org/en/latest/library/shutil.html\n",
      "import scipy\n",
      "import scipy.linalg \n",
      "import sys\n",
      "import numpy as np\n",
      "import random\n",
      "import matplotlib.pyplot as plt\n",
      "from numpy import *\n",
      "from pylab import *\n"
     ],
     "language": "python",
     "metadata": {},
     "outputs": [],
     "prompt_number": 1
    },
    {
     "cell_type": "code",
     "collapsed": false,
     "input": [
      "filename = \"antofagasta.dat\"\n",
      "file = open(filename, 'r') #Open files from Brahe-3141-f/ directory\n",
      "p, s, pos, den, c,a= loadtxt(file, unpack=True) "
     ],
     "language": "python",
     "metadata": {},
     "outputs": [],
     "prompt_number": 3
    }
   ],
   "metadata": {}
  }
 ]
}